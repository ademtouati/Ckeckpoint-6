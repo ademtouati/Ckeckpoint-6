{
 "cells": [
  {
   "cell_type": "code",
   "execution_count": 26,
   "id": "473280d7",
   "metadata": {},
   "outputs": [],
   "source": [
    "import numpy as np"
   ]
  },
  {
   "cell_type": "code",
   "execution_count": 27,
   "id": "9c1a497f",
   "metadata": {},
   "outputs": [],
   "source": [
    "def done(a):\n",
    "    C=a-a.mean(axis=1, keepdims=True)\n",
    "    print(C)"
   ]
  },
  {
   "cell_type": "code",
   "execution_count": 29,
   "id": "a10cb8a3",
   "metadata": {},
   "outputs": [],
   "source": [
    "a=np.array([[0,1,2],[3,4,5],[6,7,8]])"
   ]
  },
  {
   "cell_type": "code",
   "execution_count": 31,
   "id": "d7309518",
   "metadata": {},
   "outputs": [
    {
     "name": "stdout",
     "output_type": "stream",
     "text": [
      "[[-1.  0.  1.]\n",
      " [-1.  0.  1.]\n",
      " [-1.  0.  1.]]\n"
     ]
    }
   ],
   "source": [
    "done(a)"
   ]
  },
  {
   "cell_type": "code",
   "execution_count": null,
   "id": "cb588a3c",
   "metadata": {},
   "outputs": [],
   "source": []
  }
 ],
 "metadata": {
  "kernelspec": {
   "display_name": "Python 3 (ipykernel)",
   "language": "python",
   "name": "python3"
  },
  "language_info": {
   "codemirror_mode": {
    "name": "ipython",
    "version": 3
   },
   "file_extension": ".py",
   "mimetype": "text/x-python",
   "name": "python",
   "nbconvert_exporter": "python",
   "pygments_lexer": "ipython3",
   "version": "3.9.12"
  }
 },
 "nbformat": 4,
 "nbformat_minor": 5
}
