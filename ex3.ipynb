{
 "cells": [
  {
   "cell_type": "code",
   "execution_count": 11,
   "id": "134ff7de",
   "metadata": {},
   "outputs": [
    {
     "name": "stdout",
     "output_type": "stream",
     "text": [
      "the values bigger than 2 = [6 9 4 8]\n"
     ]
    }
   ],
   "source": [
    "import numpy as np\n",
    "a=np.array([[6,9],[4,8]])\n",
    "print(\"the values bigger than 2 =\",a[a>2])"
   ]
  },
  {
   "cell_type": "code",
   "execution_count": null,
   "id": "00fa98b6",
   "metadata": {},
   "outputs": [],
   "source": []
  }
 ],
 "metadata": {
  "kernelspec": {
   "display_name": "Python 3 (ipykernel)",
   "language": "python",
   "name": "python3"
  },
  "language_info": {
   "codemirror_mode": {
    "name": "ipython",
    "version": 3
   },
   "file_extension": ".py",
   "mimetype": "text/x-python",
   "name": "python",
   "nbconvert_exporter": "python",
   "pygments_lexer": "ipython3",
   "version": "3.9.12"
  }
 },
 "nbformat": 4,
 "nbformat_minor": 5
}
