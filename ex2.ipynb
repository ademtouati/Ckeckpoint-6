{
 "cells": [
  {
   "cell_type": "code",
   "execution_count": 2,
   "id": "ef47b76a",
   "metadata": {},
   "outputs": [
    {
     "name": "stdout",
     "output_type": "stream",
     "text": [
      "137\n"
     ]
    }
   ],
   "source": [
    "import numpy as np\n",
    "mtrix = np.array([[10, 20, 30],[40, 50, 60],[11, 45, 77]])\n",
    "trace = np.trace(mtrix)\n",
    "print(trace)"
   ]
  },
  {
   "cell_type": "code",
   "execution_count": 40,
   "id": "44bf943f",
   "metadata": {},
   "outputs": [],
   "source": [
    "def sum_diag(mtx):\n",
    "    sum=0\n",
    "    n=mtx.shape[0]\n",
    "    for i in range(n):\n",
    "        sum+=mtx[i,i]\n",
    "        \n",
    "    return sum\n"
   ]
  },
  {
   "cell_type": "code",
   "execution_count": 41,
   "id": "aafb273b",
   "metadata": {},
   "outputs": [],
   "source": [
    "mtx = np.array([[10, 20, 30],[40, 50, 60],[11, 45, 77]])"
   ]
  },
  {
   "cell_type": "code",
   "execution_count": 42,
   "id": "a795f93e",
   "metadata": {},
   "outputs": [
    {
     "data": {
      "text/plain": [
       "137"
      ]
     },
     "execution_count": 42,
     "metadata": {},
     "output_type": "execute_result"
    }
   ],
   "source": [
    "sum_diag(mtx)"
   ]
  }
 ],
 "metadata": {
  "kernelspec": {
   "display_name": "Python 3 (ipykernel)",
   "language": "python",
   "name": "python3"
  },
  "language_info": {
   "codemirror_mode": {
    "name": "ipython",
    "version": 3
   },
   "file_extension": ".py",
   "mimetype": "text/x-python",
   "name": "python",
   "nbconvert_exporter": "python",
   "pygments_lexer": "ipython3",
   "version": "3.9.12"
  }
 },
 "nbformat": 4,
 "nbformat_minor": 5
}
