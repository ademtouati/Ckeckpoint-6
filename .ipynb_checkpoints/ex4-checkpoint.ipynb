{
 "cells": [
  {
   "cell_type": "code",
   "execution_count": 2,
   "id": "2131eb2f",
   "metadata": {},
   "outputs": [
    {
     "ename": "NameError",
     "evalue": "name 'i' is not defined",
     "output_type": "error",
     "traceback": [
      "\u001b[1;31m---------------------------------------------------------------------------\u001b[0m",
      "\u001b[1;31mNameError\u001b[0m                                 Traceback (most recent call last)",
      "Input \u001b[1;32mIn [2]\u001b[0m, in \u001b[0;36m<cell line: 5>\u001b[1;34m()\u001b[0m\n\u001b[0;32m      3\u001b[0m B\u001b[38;5;241m=\u001b[39m np\u001b[38;5;241m.\u001b[39marray((\u001b[38;5;241m3\u001b[39m))\n\u001b[0;32m      4\u001b[0m C\u001b[38;5;241m=\u001b[39m[]\n\u001b[1;32m----> 5\u001b[0m C\u001b[38;5;241m.\u001b[39mappend(A[\u001b[43mi\u001b[49m]\u001b[38;5;241m+\u001b[39mB[i])\n\u001b[0;32m      6\u001b[0m \u001b[38;5;28mprint\u001b[39m(C)\n",
      "\u001b[1;31mNameError\u001b[0m: name 'i' is not defined"
     ]
    }
   ],
   "source": [
    "def rows ()\n",
    "import numpy as np\n",
    "A = np.array((3))\n",
    "B= np.array((3))\n",
    "C=[]\n",
    "for i in range(A.shape):\n",
    "    C.append(A[i]+B[i])\n",
    "\n",
    "print(C)"
   ]
  },
  {
   "cell_type": "code",
   "execution_count": null,
   "id": "3b4ce5d0",
   "metadata": {},
   "outputs": [],
   "source": []
  }
 ],
 "metadata": {
  "kernelspec": {
   "display_name": "Python 3 (ipykernel)",
   "language": "python",
   "name": "python3"
  },
  "language_info": {
   "codemirror_mode": {
    "name": "ipython",
    "version": 3
   },
   "file_extension": ".py",
   "mimetype": "text/x-python",
   "name": "python",
   "nbconvert_exporter": "python",
   "pygments_lexer": "ipython3",
   "version": "3.9.12"
  }
 },
 "nbformat": 4,
 "nbformat_minor": 5
}
